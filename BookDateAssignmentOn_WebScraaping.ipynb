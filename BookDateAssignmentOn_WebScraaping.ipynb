{
 "cells": [
  {
   "cell_type": "code",
   "execution_count": 328,
   "id": "9a5e5300",
   "metadata": {},
   "outputs": [],
   "source": [
    "import requests\n",
    "import bs4"
   ]
  },
  {
   "cell_type": "code",
   "execution_count": 333,
   "id": "2bdb1a6a",
   "metadata": {},
   "outputs": [],
   "source": [
    "for i in range(1,5):\n",
    "    req=requests.get(f'https://books.toscrape.com/catalogue/category/books_1/page-{i}.html')\n",
    "    soup=bs4.BeautifulSoup(req.text,\"html.parser\")\n",
    "#     print(i)\n",
    "    tag1_section=soup.select(\"section\")[0].select('h3')\n",
    "    \n",
    "    data={\n",
    "    'product_page_url':[],\n",
    "    'title':[],\n",
    "    'universal_product_code':[],\n",
    "    'price_including_tax':[],\n",
    "    'price_excluding_tax':[],\n",
    "    'number_available':[],\n",
    "    'category':[],\n",
    "    'review_rating':[],\n",
    "    }\n",
    "    \n",
    "    for j in tag1_section:\n",
    "#         print(str(j).split('\"')[1])\n",
    "        _url=str(j).split('\"')[1][6:]\n",
    "        url=f'https://books.toscrape.com/catalogue/{_url}'\n",
    "        req_temp=requests.get(url)\n",
    "        sp=bs4.BeautifulSoup(req_temp.text,'lxml')\n",
    "        data['product_page_url'].append(url)\n",
    "        data['title'].append(sp.title.string.strip())\n",
    "        data['universal_product_code'].append(sp.find_all('td')[0].string)\n",
    "        data['price_including_tax'].append(sp.find_all('td')[1].string)\n",
    "        data['price_excluding_tax'].append(sp.find_all('td')[2].string)\n",
    "        data['number_available'].append(sp.find_all('td')[3].string)\n",
    "        data['category'].append(sp.find_all('td')[4].string)\n",
    "        data['review_rating'].append(sp.find_all('td')[5].string)\n",
    "df=pd.DataFrame(data)"
   ]
  },
  {
   "cell_type": "code",
   "execution_count": 337,
   "id": "aa4ddc53",
   "metadata": {},
   "outputs": [
    {
     "data": {
      "text/plain": [
       "(20, 8)"
      ]
     },
     "execution_count": 337,
     "metadata": {},
     "output_type": "execute_result"
    }
   ],
   "source": [
    "df.shape"
   ]
  },
  {
   "cell_type": "code",
   "execution_count": 338,
   "id": "daec8a9c",
   "metadata": {},
   "outputs": [
    {
     "data": {
      "text/html": [
       "<div>\n",
       "<style scoped>\n",
       "    .dataframe tbody tr th:only-of-type {\n",
       "        vertical-align: middle;\n",
       "    }\n",
       "\n",
       "    .dataframe tbody tr th {\n",
       "        vertical-align: top;\n",
       "    }\n",
       "\n",
       "    .dataframe thead th {\n",
       "        text-align: right;\n",
       "    }\n",
       "</style>\n",
       "<table border=\"1\" class=\"dataframe\">\n",
       "  <thead>\n",
       "    <tr style=\"text-align: right;\">\n",
       "      <th></th>\n",
       "      <th>product_page_url</th>\n",
       "      <th>title</th>\n",
       "      <th>universal_product_code</th>\n",
       "      <th>price_including_tax</th>\n",
       "      <th>price_excluding_tax</th>\n",
       "      <th>number_available</th>\n",
       "      <th>category</th>\n",
       "      <th>review_rating</th>\n",
       "    </tr>\n",
       "  </thead>\n",
       "  <tbody>\n",
       "    <tr>\n",
       "      <th>0</th>\n",
       "      <td>https://books.toscrape.com/catalogue/the-namel...</td>\n",
       "      <td>The Nameless City (The Nameless City #1) | Boo...</td>\n",
       "      <td>7d385d34d12e60ff</td>\n",
       "      <td>Books</td>\n",
       "      <td>Â£38.16</td>\n",
       "      <td>Â£38.16</td>\n",
       "      <td>Â£0.00</td>\n",
       "      <td>In stock (16 available)</td>\n",
       "    </tr>\n",
       "    <tr>\n",
       "      <th>1</th>\n",
       "      <td>https://books.toscrape.com/catalogue/the-murde...</td>\n",
       "      <td>The Murder That Never Was (Forensic Instincts ...</td>\n",
       "      <td>d01ac97e2b8947c2</td>\n",
       "      <td>Books</td>\n",
       "      <td>Â£54.11</td>\n",
       "      <td>Â£54.11</td>\n",
       "      <td>Â£0.00</td>\n",
       "      <td>In stock (16 available)</td>\n",
       "    </tr>\n",
       "    <tr>\n",
       "      <th>2</th>\n",
       "      <td>https://books.toscrape.com/catalogue/the-most-...</td>\n",
       "      <td>The Most Perfect Thing: Inside (and Outside) a...</td>\n",
       "      <td>aadee1c326d286e3</td>\n",
       "      <td>Books</td>\n",
       "      <td>Â£42.96</td>\n",
       "      <td>Â£42.96</td>\n",
       "      <td>Â£0.00</td>\n",
       "      <td>In stock (16 available)</td>\n",
       "    </tr>\n",
       "    <tr>\n",
       "      <th>3</th>\n",
       "      <td>https://books.toscrape.com/catalogue/the-mindf...</td>\n",
       "      <td>The Mindfulness and Acceptance Workbook for An...</td>\n",
       "      <td>31075275518532d7</td>\n",
       "      <td>Books</td>\n",
       "      <td>Â£23.89</td>\n",
       "      <td>Â£23.89</td>\n",
       "      <td>Â£0.00</td>\n",
       "      <td>In stock (16 available)</td>\n",
       "    </tr>\n",
       "    <tr>\n",
       "      <th>4</th>\n",
       "      <td>https://books.toscrape.com/catalogue/the-life-...</td>\n",
       "      <td>The Life-Changing Magic of Tidying Up: The Jap...</td>\n",
       "      <td>0da9aa9d24677fc0</td>\n",
       "      <td>Books</td>\n",
       "      <td>Â£16.77</td>\n",
       "      <td>Â£16.77</td>\n",
       "      <td>Â£0.00</td>\n",
       "      <td>In stock (16 available)</td>\n",
       "    </tr>\n",
       "  </tbody>\n",
       "</table>\n",
       "</div>"
      ],
      "text/plain": [
       "                                    product_page_url  ...            review_rating\n",
       "0  https://books.toscrape.com/catalogue/the-namel...  ...  In stock (16 available)\n",
       "1  https://books.toscrape.com/catalogue/the-murde...  ...  In stock (16 available)\n",
       "2  https://books.toscrape.com/catalogue/the-most-...  ...  In stock (16 available)\n",
       "3  https://books.toscrape.com/catalogue/the-mindf...  ...  In stock (16 available)\n",
       "4  https://books.toscrape.com/catalogue/the-life-...  ...  In stock (16 available)\n",
       "\n",
       "[5 rows x 8 columns]"
      ]
     },
     "execution_count": 338,
     "metadata": {},
     "output_type": "execute_result"
    }
   ],
   "source": [
    "df.head()"
   ]
  },
  {
   "cell_type": "code",
   "execution_count": 339,
   "id": "01be76e7",
   "metadata": {},
   "outputs": [],
   "source": [
    "df.to_csv('answer.csv',index=False)"
   ]
  },
  {
   "cell_type": "code",
   "execution_count": null,
   "id": "0cd70714",
   "metadata": {},
   "outputs": [],
   "source": []
  }
 ],
 "metadata": {
  "kernelspec": {
   "display_name": "Python 3",
   "language": "python",
   "name": "python3"
  },
  "language_info": {
   "codemirror_mode": {
    "name": "ipython",
    "version": 3
   },
   "file_extension": ".py",
   "mimetype": "text/x-python",
   "name": "python",
   "nbconvert_exporter": "python",
   "pygments_lexer": "ipython3",
   "version": "3.8.8"
  }
 },
 "nbformat": 4,
 "nbformat_minor": 5
}
